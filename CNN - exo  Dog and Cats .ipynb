{
 "cells": [
  {
   "cell_type": "markdown",
   "metadata": {},
   "source": [
    "# **Le classique \"chien ou chat\" - CNN avec Keras**\n",
    "\n",
    "Le but de cet exercice est la classification d'images d'animaux en chien ou en chat. Évidemment ça peut paraître assez stérile comme objectif dans la vraie vie mais sachez que les applications intéressantes et utiles de ces réseaux sont multiples notamment en médecine.  \n",
    "Par exemple pour la reconnaissance de tumeur pulmonaire ou autre.  \n",
    "Et ce qui est chouette, c'est que la seule différence sera dans les images pour l'entraînement et la strutucre du réseau éventuellement.\n",
    "\n",
    "## **Les données**\n",
    "\n",
    "Les données ne sont plus structurées en un seul et joli CSV à partir duquel on peut associer le label et les variables explicatives facilement pour chaque observation. Le problème est qu'il faut pouvoir associer à chaque image le bon label.\n",
    "\n",
    "Une idée simple de solution est de structurer les données dans des dossiers (sous-dossiers) contenant les labels dans les noms par exemple :\n",
    "1. séparer les échantillons d'entraînement et de test dans 2 dossiers différents\n",
    "2. ensuite on appelle chaque image par un nom {label}_{numéro} genre chat_1, chat_2, chien_1, chien_2 etc...\n",
    "3. pour finir on fait un petit script qui récupère le label dans le nom de l'image à chaque fois via une petite manip de string\n",
    "\n",
    "On pourrait faire ça, ça marche, mais il y a une manière \"toute cousue\" qui fonctionne très bien dans Keras puisqu'on on y trouve des outils pour extraire les images facilement. La seule contrainte est de bien structurer le dossier de la manière suivante :\n",
    "\n",
    "<img src=\"images/cnn_exo_arborescence.png\">\n",
    "\n",
    "**Question 1 :** le dossier dataset n'est pour l'instant pas organisé comme il devrait...à vous de le faire, comme vous voulez à la main, depuis le terminal, c'est vous qui choisissez mais vous devez obtenir la même arborescence que celle indiquée dans la photo ci-dessus ! Faire un screenshot (avec un élément qui vous identifie, ici c'est mon username) et l'afficher en réponse à cette question  \n",
    "*ps1 :* le training_set contient toutes les images numérotées de 1 à 4000 et le test_set contient toutes celles de 4001 à 5000. Vous devez respecter cette répartition pour qu'on ait les mêmes échantillons.  \n",
    "*ps2 :* le dossier single_prediction est pour la fin de l'exercice, il n'est pas nécessaire dans l'arborescence des dossiers d'image pour `Keras` mais créez-le de suite, ce sera fait."
   ]
  },
  {
   "cell_type": "markdown",
   "metadata": {},
   "source": [
    "<img src=\"ScreenshotTree.png\">"
   ]
  },
  {
   "cell_type": "markdown",
   "metadata": {},
   "source": [
    "## **Le réseau CNN**\n",
    "\n",
    "Tout est dit. Ou presque.  \n",
    "Vous devez construire et entraîner un réseau de neurones à convolution pour la catégorisation des images en chien/chat.  \n",
    "Allez, je vous mets quelques pistes et même toutes les librairies nécessaires, c'est cadeau."
   ]
  },
  {
   "cell_type": "code",
   "execution_count": 3,
   "metadata": {},
   "outputs": [],
   "source": [
    "#Librairies\n",
    "from keras.models import Sequential\n",
    "from keras.layers import Conv2D\n",
    "from keras.layers import MaxPooling2D\n",
    "from keras.layers import Flatten\n",
    "from keras.layers import Dense\n",
    "from keras.preprocessing.image import ImageDataGenerator\n",
    "import os\n",
    "import tensorflow as tf"
   ]
  },
  {
   "cell_type": "markdown",
   "metadata": {},
   "source": [
    "#### **L'architecture**\n",
    "\n",
    "Dans un premier temps construisez votre réseau étape par étape"
   ]
  },
  {
   "cell_type": "code",
   "execution_count": 4,
   "metadata": {},
   "outputs": [
    {
     "name": "stdout",
     "output_type": "stream",
     "text": [
      "Model: \"sequential\"\n",
      "_________________________________________________________________\n",
      "Layer (type)                 Output Shape              Param #   \n",
      "=================================================================\n",
      "conv2d (Conv2D)              (None, 148, 148, 32)      896       \n",
      "_________________________________________________________________\n",
      "max_pooling2d (MaxPooling2D) (None, 74, 74, 32)        0         \n",
      "_________________________________________________________________\n",
      "conv2d_1 (Conv2D)            (None, 72, 72, 32)        9248      \n",
      "_________________________________________________________________\n",
      "max_pooling2d_1 (MaxPooling2 (None, 36, 36, 32)        0         \n",
      "_________________________________________________________________\n",
      "conv2d_2 (Conv2D)            (None, 34, 34, 64)        18496     \n",
      "_________________________________________________________________\n",
      "max_pooling2d_2 (MaxPooling2 (None, 17, 17, 64)        0         \n",
      "_________________________________________________________________\n",
      "conv2d_3 (Conv2D)            (None, 15, 15, 64)        36928     \n",
      "_________________________________________________________________\n",
      "max_pooling2d_3 (MaxPooling2 (None, 7, 7, 64)          0         \n",
      "_________________________________________________________________\n",
      "flatten (Flatten)            (None, 3136)              0         \n",
      "_________________________________________________________________\n",
      "dropout (Dropout)            (None, 3136)              0         \n",
      "_________________________________________________________________\n",
      "dense (Dense)                (None, 1)                 3137      \n",
      "=================================================================\n",
      "Total params: 68,705\n",
      "Trainable params: 68,705\n",
      "Non-trainable params: 0\n",
      "_________________________________________________________________\n"
     ]
    }
   ],
   "source": [
    "img_width = 150\n",
    "img_height = 150\n",
    "model = tf.keras.models.Sequential([\n",
    "    # Note the input shape is the desired size of the image 150x150 with 3 bytes color\n",
    "    # This is the first convolution\n",
    "    tf.keras.layers.Conv2D(32, (3,3), activation='relu', input_shape=(150, 150, 3)),\n",
    "    tf.keras.layers.MaxPooling2D(2, 2),\n",
    "    # The second convolution\n",
    "    tf.keras.layers.Conv2D(32, (3,3), activation='relu'),\n",
    "    tf.keras.layers.MaxPooling2D(2,2),\n",
    "    # The third convolution\n",
    "    tf.keras.layers.Conv2D(64, (3,3), activation='relu'),\n",
    "    tf.keras.layers.MaxPooling2D(2,2),\n",
    "    # The fourth convolution\n",
    "    tf.keras.layers.Conv2D(64, (3,3), activation='relu'),\n",
    "    tf.keras.layers.MaxPooling2D(2,2),\n",
    "    # Flatten the results to feed into a DNN\n",
    "    tf.keras.layers.Flatten(),\n",
    "    tf.keras.layers.Dropout(0.5),\n",
    "  \n",
    "    tf.keras.layers.Dense(1, activation='sigmoid')\n",
    "])\n",
    "\n",
    "\n",
    "model.compile(loss='binary_crossentropy',\n",
    "              optimizer='rmsprop',\n",
    "              metrics=['accuracy'])\n",
    "\n",
    "model.summary()"
   ]
  },
  {
   "cell_type": "markdown",
   "metadata": {},
   "source": [
    "#### **L'entraînement**\n",
    "\n",
    "Là, c'est un peu plus complexe alors je vous donne les méthodes à utiliser, dans cet ordre :\n",
    "1. `ImageDataGenerator`\n",
    "\n",
    "2. `flow_from_generator`\n",
    "@Développeuse pour l'entraînement je vous parle de flow_from_generator qui n'existe pas, c'est flow_from_directory\n",
    "3. `fit_generator`\n",
    "\n",
    "Il va certainement vous falloir fouiller un peu là-dedans https://keras.io/api/preprocessing/image/ et en profiter pour découvrir le concept merveilleux de *Data Augmentation*."
   ]
  },
  {
   "cell_type": "code",
   "execution_count": 16,
   "metadata": {},
   "outputs": [],
   "source": [
    "# we need to convert the RGB images into array of numbers\n",
    "data_generator = ImageDataGenerator(rescale = 1.0/255.0, zoom_range = 0.2)"
   ]
  },
  {
   "cell_type": "code",
   "execution_count": 17,
   "metadata": {},
   "outputs": [],
   "source": [
    "TRAINING_DIR = \"./dataset/training_set/\"\n",
    "VALIDATION_DIR = \"./dataset/test_set/\""
   ]
  },
  {
   "cell_type": "code",
   "execution_count": 22,
   "metadata": {},
   "outputs": [
    {
     "name": "stdout",
     "output_type": "stream",
     "text": [
      "Found 8000 images belonging to 2 classes.\n",
      "Found 2000 images belonging to 2 classes.\n"
     ]
    }
   ],
   "source": [
    "#Prepare generators for training and validation sets\n",
    "batch_size = 32\n",
    "training_data = data_generator.flow_from_directory(directory = TRAINING_DIR,\n",
    "                                                   target_size = (150, 150),\n",
    "                                                   batch_size = batch_size,\n",
    "                                                   class_mode = 'binary')\n",
    "testing_data = data_generator.flow_from_directory(directory = VALIDATION_DIR,\n",
    "                                                  target_size = (150, 150),\n",
    "                                                  batch_size = batch_size,\n",
    "                                                  class_mode = 'binary')"
   ]
  },
  {
   "cell_type": "code",
   "execution_count": 23,
   "metadata": {},
   "outputs": [
    {
     "name": "stdout",
     "output_type": "stream",
     "text": [
      "WARNING:tensorflow:sample_weight modes were coerced from\n",
      "  ...\n",
      "    to  \n",
      "  ['...']\n",
      "WARNING:tensorflow:sample_weight modes were coerced from\n",
      "  ...\n",
      "    to  \n",
      "  ['...']\n",
      "Train for 250 steps, validate for 63 steps\n",
      "Epoch 1/25\n",
      "250/250 [==============================] - 133s 530ms/step - loss: 0.6856 - accuracy: 0.5505 - val_loss: 0.6459 - val_accuracy: 0.6375\n",
      "Epoch 2/25\n",
      "250/250 [==============================] - 136s 545ms/step - loss: 0.6340 - accuracy: 0.6421 - val_loss: 0.5891 - val_accuracy: 0.7080\n",
      "Epoch 3/25\n",
      "250/250 [==============================] - 138s 551ms/step - loss: 0.5886 - accuracy: 0.6886 - val_loss: 0.5607 - val_accuracy: 0.7055\n",
      "Epoch 4/25\n",
      "250/250 [==============================] - 138s 552ms/step - loss: 0.5643 - accuracy: 0.7121 - val_loss: 0.5313 - val_accuracy: 0.7460\n",
      "Epoch 5/25\n",
      "250/250 [==============================] - 139s 554ms/step - loss: 0.5273 - accuracy: 0.7384 - val_loss: 0.4926 - val_accuracy: 0.7730\n",
      "Epoch 6/25\n",
      "250/250 [==============================] - 139s 557ms/step - loss: 0.5062 - accuracy: 0.7501 - val_loss: 0.4940 - val_accuracy: 0.7670\n",
      "Epoch 7/25\n",
      "250/250 [==============================] - 138s 551ms/step - loss: 0.4765 - accuracy: 0.7724 - val_loss: 0.4927 - val_accuracy: 0.7570\n",
      "Epoch 8/25\n",
      "250/250 [==============================] - 139s 555ms/step - loss: 0.4586 - accuracy: 0.7844 - val_loss: 0.4344 - val_accuracy: 0.8000\n",
      "Epoch 9/25\n",
      "250/250 [==============================] - 139s 554ms/step - loss: 0.4445 - accuracy: 0.7931 - val_loss: 0.4206 - val_accuracy: 0.8175\n",
      "Epoch 10/25\n",
      "250/250 [==============================] - 138s 552ms/step - loss: 0.4260 - accuracy: 0.8034 - val_loss: 0.4963 - val_accuracy: 0.7720\n",
      "Epoch 11/25\n",
      "250/250 [==============================] - 138s 553ms/step - loss: 0.4129 - accuracy: 0.8133 - val_loss: 0.3911 - val_accuracy: 0.8350\n",
      "Epoch 12/25\n",
      "250/250 [==============================] - 139s 554ms/step - loss: 0.3971 - accuracy: 0.8209 - val_loss: 0.6017 - val_accuracy: 0.7535\n",
      "Epoch 13/25\n",
      "250/250 [==============================] - 138s 553ms/step - loss: 0.3833 - accuracy: 0.8317 - val_loss: 0.3749 - val_accuracy: 0.8375\n",
      "Epoch 14/25\n",
      "250/250 [==============================] - 140s 559ms/step - loss: 0.3759 - accuracy: 0.8290 - val_loss: 0.3866 - val_accuracy: 0.8270\n",
      "Epoch 15/25\n",
      "250/250 [==============================] - 139s 556ms/step - loss: 0.3668 - accuracy: 0.8388 - val_loss: 0.4008 - val_accuracy: 0.8225\n",
      "Epoch 16/25\n",
      "250/250 [==============================] - 139s 555ms/step - loss: 0.3535 - accuracy: 0.8424 - val_loss: 0.3657 - val_accuracy: 0.8535\n",
      "Epoch 17/25\n",
      "250/250 [==============================] - 138s 552ms/step - loss: 0.3437 - accuracy: 0.8479 - val_loss: 0.3920 - val_accuracy: 0.8405\n",
      "Epoch 18/25\n",
      "250/250 [==============================] - 139s 556ms/step - loss: 0.3362 - accuracy: 0.8529 - val_loss: 0.4187 - val_accuracy: 0.8175\n",
      "Epoch 19/25\n",
      "250/250 [==============================] - 139s 554ms/step - loss: 0.3191 - accuracy: 0.8587 - val_loss: 0.3542 - val_accuracy: 0.8530\n",
      "Epoch 20/25\n",
      "250/250 [==============================] - 139s 556ms/step - loss: 0.3176 - accuracy: 0.8615 - val_loss: 0.3890 - val_accuracy: 0.8230\n",
      "Epoch 21/25\n",
      "250/250 [==============================] - 138s 551ms/step - loss: 0.3092 - accuracy: 0.8655 - val_loss: 0.3569 - val_accuracy: 0.8530\n",
      "Epoch 22/25\n",
      "250/250 [==============================] - 138s 551ms/step - loss: 0.3030 - accuracy: 0.8746 - val_loss: 0.3886 - val_accuracy: 0.8405\n",
      "Epoch 23/25\n",
      "250/250 [==============================] - 141s 563ms/step - loss: 0.2924 - accuracy: 0.8767 - val_loss: 0.3247 - val_accuracy: 0.8605\n",
      "Epoch 24/25\n",
      "250/250 [==============================] - 139s 557ms/step - loss: 0.2826 - accuracy: 0.8795 - val_loss: 0.3184 - val_accuracy: 0.8705\n",
      "Epoch 25/25\n",
      "250/250 [==============================] - 141s 563ms/step - loss: 0.2887 - accuracy: 0.8821 - val_loss: 0.3630 - val_accuracy: 0.8500\n"
     ]
    }
   ],
   "source": [
    "history = model.fit(training_data, epochs=25,  validation_data = testing_data, verbose = 1)"
   ]
  },
  {
   "cell_type": "code",
   "execution_count": 40,
   "metadata": {},
   "outputs": [],
   "source": [
    "model.save(\"dog_or_cat_v0.h5\")"
   ]
  },
  {
   "cell_type": "code",
   "execution_count": 44,
   "metadata": {},
   "outputs": [],
   "source": [
    "\n",
    "# It can be used to reconstruct the model identically.\n",
    "reconstructed_model = tf.keras.models.load_model(\"dog_or_cat_v0.h5\")"
   ]
  },
  {
   "cell_type": "code",
   "execution_count": 45,
   "metadata": {},
   "outputs": [
    {
     "name": "stdout",
     "output_type": "stream",
     "text": [
      "dog_or_cat_v0.h5\r\n"
     ]
    }
   ],
   "source": [
    "!ls dog_or_cat_v0.h5"
   ]
  },
  {
   "cell_type": "code",
   "execution_count": 24,
   "metadata": {},
   "outputs": [],
   "source": [
    "import matplotlib.pyplot as plt\n",
    "acc = history.history['accuracy']\n",
    "val_acc = history.history['val_accuracy']\n",
    "loss = history.history['loss']\n",
    "val_loss = history.history['val_loss']"
   ]
  },
  {
   "cell_type": "code",
   "execution_count": 25,
   "metadata": {},
   "outputs": [
    {
     "data": {
      "image/png": "[encoded data removed]",
      "text/plain": [
       "<Figure size 432x288 with 1 Axes>"
      ]
     },
     "metadata": {
      "needs_background": "light"
     },
     "output_type": "display_data"
    },
    {
     "data": {
      "text/plain": [
       "<Figure size 432x288 with 0 Axes>"
      ]
     },
     "metadata": {},
     "output_type": "display_data"
    }
   ],
   "source": [
    "epochs = range(len(acc))\n",
    "\n",
    "plt.plot(epochs, acc, 'r', label='Training accuracy')\n",
    "plt.plot(epochs, val_acc, 'b', label='Validation accuracy')\n",
    "plt.title('Training and validation accuracy')\n",
    "plt.legend(loc=0)\n",
    "plt.figure()\n",
    "\n",
    "\n",
    "plt.show()"
   ]
  },
  {
   "cell_type": "markdown",
   "metadata": {},
   "source": [
    "## **Prédictions à partir de nouvelles images**\n",
    "\n",
    "Prenez une jolie photo de votre chien ou de votre chat et utilisez votre modèle CNN pour prédire de quel animal il s'agit. Si vous n'avez ni chien ni chat, pas de panique, dans le dossier `single_prediction`, il y a ce qu'il faut et vous pouvez aussi tester d'autres images en allant en récupérer sur internet."
   ]
  },
  {
   "cell_type": "code",
   "execution_count": 46,
   "metadata": {},
   "outputs": [],
   "source": [
    "from tensorflow.keras.preprocessing import image\n",
    "import numpy as np\n",
    "\n",
    "# testing the model\n",
    "def testing_image(image_directory):\n",
    "    test_image = image.load_img(image_directory, target_size = (150, 150))\n",
    "    test_image = image.img_to_array(test_image)\n",
    "    test_image = np.expand_dims(test_image, axis = 0)\n",
    "    result = reconstructed_model.predict(x = test_image)\n",
    "    print(result)\n",
    "    if result[0][0]  == 1:\n",
    "        prediction = 'Dog'\n",
    "    else:\n",
    "        prediction = 'Cat'\n",
    "    return prediction\n",
    "\n"
   ]
  },
  {
   "cell_type": "code",
   "execution_count": 66,
   "metadata": {},
   "outputs": [
    {
     "name": "stdout",
     "output_type": "stream",
     "text": [
      "[[1.1338712e-29]]\n",
      "Cat\n"
     ]
    }
   ],
   "source": [
    "PREDICTION_DIR = \"./dataset/single_prediction/\"\n",
    "\n",
    "print(testing_image(PREDICTION_DIR + '/cat_or_dog_2.jpg'))\n",
    "\n"
   ]
  },
  {
   "cell_type": "code",
   "execution_count": 70,
   "metadata": {},
   "outputs": [
    {
     "name": "stdout",
     "output_type": "stream",
     "text": [
      "[[1.]]\n",
      "Dog\n"
     ]
    }
   ],
   "source": [
    "print(testing_image(PREDICTION_DIR + '/cat_or_dog_1.jpg'))"
   ]
  },
  {
   "cell_type": "code",
   "execution_count": 76,
   "metadata": {},
   "outputs": [
    {
     "name": "stdout",
     "output_type": "stream",
     "text": [
      "[[6.257167e-25]]\n",
      "Cat\n"
     ]
    }
   ],
   "source": [
    "#test avec un image d'internet, c'est OK\n",
    "print(testing_image(PREDICTION_DIR + '/images.jpeg'))"
   ]
  },
  {
   "cell_type": "markdown",
   "metadata": {},
   "source": [
    "## **Amélioration de votre modèle**\n",
    "\n",
    "Un petit *kaggle* maison : essayez d'améliorer l'accuracy de votre CNN\n",
    "- Accuracy **entre 80% et 85%** sur le jeu de test, c'est **pas mal**\n",
    "- Accuracy **entre 85% et 90%** sur le jeu de test, c'est **bien**\n",
    "- Accuracy **supérieure à 90%**  sur le jeu de test, c'est **top**\n",
    "\n",
    "Les règles du jeu :\n",
    "- On garde bien sûr le même jeu d'entraînement\n",
    "- Il est interdit de spécifier manuellement une seed\n",
    "\n",
    "*Une indication utile :* laissez tomber la validation croisée dans un premier temps car en utilisant `fit_generator`, le modèle passe directement sur l'échantillon test pour valider le modèle. C'est faisable mais un peu plus compliqué..."
   ]
  },
  {
   "cell_type": "code",
   "execution_count": 56,
   "metadata": {},
   "outputs": [],
   "source": [
    "from keras.layers import Dropout\n",
    "model2 = Sequential()\n",
    "model2.add(Conv2D(filters = 32, kernel_size = (3, 3), activation = 'relu', input_shape = (150, 150, 3)))\n",
    "model2.add(MaxPooling2D(pool_size = (2, 2)))\n",
    "model2.add(Dropout(rate = 0.3))\n",
    "model2.add(Conv2D(filters = 64, kernel_size = (3, 3), activation = 'relu'))\n",
    "model2.add(MaxPooling2D(pool_size = (2, 2)))\n",
    "model2.add(Dropout(rate = 0.2))\n",
    "model2.add(Conv2D(filters = 126, kernel_size = (3, 3), activation = 'relu'))\n",
    "model2.add(MaxPooling2D(pool_size = (2, 2)))\n",
    "model2.add(Dropout(rate = 0.15))\n",
    "model2.add(Flatten())\n",
    "model2.add(Dense(units = 32, activation = 'relu'))\n",
    "model2.add(Dropout(rate = 0.15))\n",
    "model2.add(Dense(units = 64, activation = 'relu'))\n",
    "model2.add(Dropout(rate = 0.1))\n",
    "model2.add(Dense(units = len(set(training_data.classes)), activation = 'softmax'))\n",
    "model2.compile(optimizer = 'adam', loss = 'sparse_categorical_crossentropy', metrics = ['accuracy'])"
   ]
  },
  {
   "cell_type": "code",
   "execution_count": null,
   "metadata": {},
   "outputs": [],
   "source": [
    "#malhereusment c'est trop long. un plus cet model a tendance etre surentrainé\n",
    "fitted_model = model2.fit(training_data,\n",
    "                        steps_per_epoch = 1000,\n",
    "                        epochs = 25,\n",
    "                        validation_data = testing_data,\n",
    "                        validation_steps = 1000)"
   ]
  },
  {
   "cell_type": "code",
   "execution_count": null,
   "metadata": {},
   "outputs": [],
   "source": []
  }
 ],
 "metadata": {
  "kernelspec": {
   "display_name": "Python 3",
   "language": "python",
   "name": "python3"
  },
  "language_info": {
   "codemirror_mode": {
    "name": "ipython",
    "version": 3
   },
   "file_extension": ".py",
   "mimetype": "text/x-python",
   "name": "python",
   "nbconvert_exporter": "python",
   "pygments_lexer": "ipython3",
   "version": "3.7.7"
  }
 },
 "nbformat": 4,
 "nbformat_minor": 4
}
